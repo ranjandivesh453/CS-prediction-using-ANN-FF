{
 "cells": [
  {
   "cell_type": "code",
   "execution_count": 2,
   "metadata": {
    "tags": []
   },
   "outputs": [
    {
     "name": "stdout",
     "output_type": "stream",
     "text": [
      "All required packages have been installed.\n"
     ]
    }
   ],
   "source": [
    "# Run this file once in the system for installation of required python packages for successfully running gui_ann_FF_full.py\n",
    "\n",
    "import sys\n",
    "import subprocess\n",
    "\n",
    "def install(package):\n",
    "    subprocess.check_call([sys.executable, \"-m\", \"pip\", \"install\", package])\n",
    "\n",
    "# Core packages\n",
    "install(\"numpy\")\n",
    "install(\"pandas\")\n",
    "\n",
    "# Optional GUI enhancements\n",
    "install(\"tk\")  # Usually comes with Python, but ensures availability\n",
    "\n",
    "# JSON handling is built-in (no need to install)\n",
    "# scikit-learn if you want scaling or future ML features\n",
    "install(\"scikit-learn\")\n",
    "\n",
    "print(\"All required packages have been installed.\")\n"
   ]
  },
  {
   "cell_type": "code",
   "execution_count": null,
   "metadata": {},
   "outputs": [],
   "source": []
  }
 ],
 "metadata": {
  "interpreter": {
   "hash": "550c97c5def8f11009a3348800a8b26cbaf051d22b4f571006e95d0aefea1621"
  },
  "kernelspec": {
   "display_name": "Python 3 (ipykernel)",
   "language": "python",
   "name": "python3"
  },
  "language_info": {
   "codemirror_mode": {
    "name": "ipython",
    "version": 3
   },
   "file_extension": ".py",
   "mimetype": "text/x-python",
   "name": "python",
   "nbconvert_exporter": "python",
   "pygments_lexer": "ipython3",
   "version": "3.11.5"
  }
 },
 "nbformat": 4,
 "nbformat_minor": 4
}
